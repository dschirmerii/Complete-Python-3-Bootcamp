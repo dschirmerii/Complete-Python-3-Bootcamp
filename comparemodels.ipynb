{
  "nbformat": 4,
  "nbformat_minor": 0,
  "metadata": {
    "colab": {
      "name": "comparemodels.ipynb",
      "provenance": [],
      "collapsed_sections": [],
      "machine_shape": "hm",
      "authorship_tag": "ABX9TyPwUGg7JKx3S+JJFhJ3sLwL",
      "include_colab_link": true
    },
    "kernelspec": {
      "name": "python3",
      "display_name": "Python 3"
    },
    "language_info": {
      "name": "python"
    },
    "accelerator": "GPU"
  },
  "cells": [
    {
      "cell_type": "markdown",
      "metadata": {
        "id": "view-in-github",
        "colab_type": "text"
      },
      "source": [
        "<a href=\"https://colab.research.google.com/github/dschirmerii/Complete-Python-3-Bootcamp/blob/master/comparemodels.ipynb\" target=\"_parent\"><img src=\"https://colab.research.google.com/assets/colab-badge.svg\" alt=\"Open In Colab\"/></a>"
      ]
    },
    {
      "cell_type": "code",
      "metadata": {
        "id": "06NTzg5PB8oX"
      },
      "source": [
        "# importing libaries\n",
        "import keras,os\n",
        "from keras.models import Sequential\n",
        "from keras.layers import Dense, Conv2D, MaxPool2D , Flatten, Dropout\n",
        "from keras.preprocessing.image import ImageDataGenerator\n",
        "from keras.callbacks import History\n",
        "import numpy as np\n",
        "import matplotlib.pyplot as plt\n",
        "import matplotlib.image as mpimg\n",
        "import cv2\n",
        "import tensorflow as tf\n",
        "import os\n",
        "import numpy as np\n",
        "import shutil"
      ],
      "execution_count": 1,
      "outputs": []
    },
    {
      "cell_type": "code",
      "metadata": {
        "colab": {
          "base_uri": "https://localhost:8080/"
        },
        "id": "eo3NS2trCD0v",
        "outputId": "52a76a4a-3a34-4afd-9198-fe8deb5de87f"
      },
      "source": [
        "gpu_info = !nvidia-smi\n",
        "gpu_info = '\\n'.join(gpu_info)\n",
        "if gpu_info.find('failed') >= 0:\n",
        "  print('Select the Runtime > \"Change runtime type\" menu to enable a GPU accelerator, ')\n",
        "  print('and then re-execute this cell.')\n",
        "else:\n",
        "  print(gpu_info)"
      ],
      "execution_count": 2,
      "outputs": [
        {
          "output_type": "stream",
          "text": [
            "Mon Aug  2 18:43:21 2021       \n",
            "+-----------------------------------------------------------------------------+\n",
            "| NVIDIA-SMI 470.42.01    Driver Version: 460.32.03    CUDA Version: 11.2     |\n",
            "|-------------------------------+----------------------+----------------------+\n",
            "| GPU  Name        Persistence-M| Bus-Id        Disp.A | Volatile Uncorr. ECC |\n",
            "| Fan  Temp  Perf  Pwr:Usage/Cap|         Memory-Usage | GPU-Util  Compute M. |\n",
            "|                               |                      |               MIG M. |\n",
            "|===============================+======================+======================|\n",
            "|   0  Tesla V100-SXM2...  Off  | 00000000:00:04.0 Off |                    0 |\n",
            "| N/A   37C    P0    29W / 300W |      0MiB / 16160MiB |      0%      Default |\n",
            "|                               |                      |                  N/A |\n",
            "+-------------------------------+----------------------+----------------------+\n",
            "                                                                               \n",
            "+-----------------------------------------------------------------------------+\n",
            "| Processes:                                                                  |\n",
            "|  GPU   GI   CI        PID   Type   Process name                  GPU Memory |\n",
            "|        ID   ID                                                   Usage      |\n",
            "|=============================================================================|\n",
            "|  No running processes found                                                 |\n",
            "+-----------------------------------------------------------------------------+\n"
          ],
          "name": "stdout"
        }
      ]
    },
    {
      "cell_type": "code",
      "metadata": {
        "colab": {
          "base_uri": "https://localhost:8080/"
        },
        "id": "Cu2OCn1hCDxV",
        "outputId": "11caa1cf-b8ae-4ff8-baff-b65c6038d12b"
      },
      "source": [
        "from psutil import virtual_memory\n",
        "ram_gb = virtual_memory().total / 1e9\n",
        "print('Your runtime has {:.1f} gigabytes of available RAM\\n'.format(ram_gb))\n",
        "\n",
        "if ram_gb < 20:\n",
        "  print('To enable a high-RAM runtime, select the Runtime > \"Change runtime type\"')\n",
        "  print('menu, and then select High-RAM in the Runtime shape dropdown. Then, ')\n",
        "  print('re-execute this cell.')\n",
        "else:\n",
        "  print('You are using a high-RAM runtime!')"
      ],
      "execution_count": 3,
      "outputs": [
        {
          "output_type": "stream",
          "text": [
            "Your runtime has 27.3 gigabytes of available RAM\n",
            "\n",
            "You are using a high-RAM runtime!\n"
          ],
          "name": "stdout"
        }
      ]
    },
    {
      "cell_type": "code",
      "metadata": {
        "colab": {
          "base_uri": "https://localhost:8080/"
        },
        "id": "gxD6JWB-CDtU",
        "outputId": "f402db56-116a-4f7f-85c4-a4edc9885080"
      },
      "source": [
        "from google.colab import drive\n",
        "drive.mount('/content/drive')"
      ],
      "execution_count": 4,
      "outputs": [
        {
          "output_type": "stream",
          "text": [
            "Drive already mounted at /content/drive; to attempt to forcibly remount, call drive.mount(\"/content/drive\", force_remount=True).\n"
          ],
          "name": "stdout"
        }
      ]
    },
    {
      "cell_type": "code",
      "metadata": {
        "id": "DYH-LMlvCDpv"
      },
      "source": [
        "rootdir= '/MyDrive/Project 2/aaplcandles/' #path of the original folder\n",
        "classes = ['buy','sell']"
      ],
      "execution_count": 5,
      "outputs": []
    },
    {
      "cell_type": "code",
      "metadata": {
        "colab": {
          "base_uri": "https://localhost:8080/"
        },
        "id": "XMfwMIQVCRsH",
        "outputId": "e1744ceb-9c9d-4817-bb98-6d37dfa1cbd5"
      },
      "source": [
        "cd drive/MyDrive/Project 2"
      ],
      "execution_count": 6,
      "outputs": [
        {
          "output_type": "stream",
          "text": [
            "/content/drive/MyDrive/Project 2\n"
          ],
          "name": "stdout"
        }
      ]
    },
    {
      "cell_type": "code",
      "metadata": {
        "colab": {
          "base_uri": "https://localhost:8080/"
        },
        "id": "uaXU-sQwCRne",
        "outputId": "099d47d2-4f28-4d92-c795-502b9fb5f33a"
      },
      "source": [
        "cd output"
      ],
      "execution_count": 7,
      "outputs": [
        {
          "output_type": "stream",
          "text": [
            "/content/drive/MyDrive/Project 2/output\n"
          ],
          "name": "stdout"
        }
      ]
    },
    {
      "cell_type": "code",
      "metadata": {
        "id": "fOzt7OSk59e1"
      },
      "source": [
        "target_size=(64,64)\n",
        "batch_size=6"
      ],
      "execution_count": 8,
      "outputs": []
    },
    {
      "cell_type": "code",
      "metadata": {
        "colab": {
          "base_uri": "https://localhost:8080/"
        },
        "id": "4NbOEFcGCRkt",
        "outputId": "3a080205-45b8-4f7f-c957-404befbc42ce"
      },
      "source": [
        "train_datagen = ImageDataGenerator(rescale=1./255,\n",
        ") # set validation split\n",
        "\n",
        "train_generator = train_datagen.flow_from_directory(\n",
        "    \"./train\",\n",
        "    target_size=(64, 64),\n",
        "    batch_size=batch_size,\n",
        "    class_mode='categorical',\n",
        "    subset='training') # set as training data\n",
        "\n",
        "validation_generator = train_datagen.flow_from_directory(\n",
        "    \"./val\", # same directory as training data\n",
        "    target_size=(64, 64),\n",
        "    batch_size=batch_size,\n",
        "    class_mode='categorical',\n",
        "    subset='validation') # set as validation data"
      ],
      "execution_count": 9,
      "outputs": [
        {
          "output_type": "stream",
          "text": [
            "Found 799 images belonging to 2 classes.\n",
            "Found 0 images belonging to 2 classes.\n"
          ],
          "name": "stdout"
        }
      ]
    },
    {
      "cell_type": "code",
      "metadata": {
        "id": "k6kpw7ra9DmT"
      },
      "source": [
        "steps_per_epoch = train_generator.samples // batch_size\n",
        "validation_steps = validation_generator.samples // batch_size"
      ],
      "execution_count": 10,
      "outputs": []
    },
    {
      "cell_type": "code",
      "metadata": {
        "id": "SEZ_-c6IAVJn"
      },
      "source": [
        "def build_compile(optimizer_name='SGD'):\n",
        "    \n",
        "    \n",
        "  model = Sequential([Conv2D(input_shape=(64,64,1),filters=(3),kernel_size=(1,1),activation='relu'),\n",
        "     keras.layers.MaxPooling2D(pool_size=(2,2)) ,\n",
        "     Dropout(0.2),\n",
        "     Flatten(), # flatten out the layers\n",
        "     Dense(32,activation='relu'),\n",
        "     Dense(2,activation = 'softmax')\n",
        "    ])\n",
        "  \n",
        "\n",
        "    # compile the model with a cross-entropy loss and specify the given optimizer\n",
        "  model.compile(optimizer=optimizer_name, loss=keras.losses.CategoricalCrossentropy(),metrics=['accuracy'])\n",
        "  return model"
      ],
      "execution_count": 16,
      "outputs": []
    },
    {
      "cell_type": "code",
      "metadata": {
        "id": "c8WJxqy8AdBr"
      },
      "source": [
        "optimizer_names = ['SGD','Adagrad','Adam']\n",
        "optimizer_list = ['SGD','Adagrad','Adam']"
      ],
      "execution_count": 12,
      "outputs": []
    },
    {
      "cell_type": "code",
      "metadata": {
        "id": "2BRT2T6OAc9z",
        "colab": {
          "base_uri": "https://localhost:8080/"
        },
        "outputId": "ba654d6a-5fc4-4971-f21b-4d85e3290c3f"
      },
      "source": [
        "hist_acc = []\n",
        "hist_val_acc = []\n",
        "\n",
        "# Iterate over optimizers and train the network, using x_test and y_test as a validation set in each epoch\n",
        "for item,name in zip(optimizer_list, optimizer_names):\n",
        "    print(\"-----------------------------\")\n",
        "    print(\"Doing %s optimizer\" %str(name))\n",
        "    print(\"-----------------------------\")\n",
        "    \n",
        "    # Get the model from our function above\n",
        "    model = build_compile(item)\n",
        "    \n",
        "    # Train the model\n",
        "    hist = model.fit(train_generator,batch_size=6,steps_per_epoch=10, validation_data=validation_generator, validation_steps=6,epochs=25)\n",
        "    # Store the performance\n",
        "    hist_acc.append(hist.history['accuracy'])\n",
        "    hist_val_acc.append(hist.history['loss'])\n",
        "    print(\"-----------------------------\")"
      ],
      "execution_count": 18,
      "outputs": [
        {
          "output_type": "stream",
          "text": [
            "-----------------------------\n",
            "Doing SGD optimizer\n",
            "-----------------------------\n",
            "Epoch 1/25\n",
            "10/10 [==============================] - 2s 113ms/step - loss: 0.6928 - accuracy: 0.6127\n",
            "Epoch 2/25\n",
            "10/10 [==============================] - 2s 170ms/step - loss: 0.6951 - accuracy: 0.3396\n",
            "Epoch 3/25\n",
            "10/10 [==============================] - 1s 60ms/step - loss: 0.6934 - accuracy: 0.4801\n",
            "Epoch 4/25\n",
            "10/10 [==============================] - 1s 108ms/step - loss: 0.6924 - accuracy: 0.6122\n",
            "Epoch 5/25\n",
            "10/10 [==============================] - 1s 67ms/step - loss: 0.6938 - accuracy: 0.4705\n",
            "Epoch 6/25\n",
            "10/10 [==============================] - 1s 60ms/step - loss: 0.6914 - accuracy: 0.5858\n",
            "Epoch 7/25\n",
            "10/10 [==============================] - 1s 149ms/step - loss: 0.6933 - accuracy: 0.4957\n",
            "Epoch 8/25\n",
            "10/10 [==============================] - 1s 63ms/step - loss: 0.6859 - accuracy: 0.6517\n",
            "Epoch 9/25\n",
            "10/10 [==============================] - 1s 108ms/step - loss: 0.6998 - accuracy: 0.3917\n",
            "Epoch 10/25\n",
            "10/10 [==============================] - 1s 108ms/step - loss: 0.6935 - accuracy: 0.5043\n",
            "Epoch 11/25\n",
            "10/10 [==============================] - 1s 108ms/step - loss: 0.6932 - accuracy: 0.5150\n",
            "Epoch 12/25\n",
            "10/10 [==============================] - 1s 61ms/step - loss: 0.6928 - accuracy: 0.5155\n",
            "Epoch 13/25\n",
            "10/10 [==============================] - 1s 60ms/step - loss: 0.6886 - accuracy: 0.5876\n",
            "Epoch 14/25\n",
            "10/10 [==============================] - 1s 113ms/step - loss: 0.6934 - accuracy: 0.5090\n",
            "Epoch 15/25\n",
            "10/10 [==============================] - 1s 60ms/step - loss: 0.6968 - accuracy: 0.4432\n",
            "Epoch 16/25\n",
            "10/10 [==============================] - 1s 108ms/step - loss: 0.6848 - accuracy: 0.6927\n",
            "Epoch 17/25\n",
            "10/10 [==============================] - 1s 112ms/step - loss: 0.6919 - accuracy: 0.5359\n",
            "Epoch 18/25\n",
            "10/10 [==============================] - 1s 60ms/step - loss: 0.6920 - accuracy: 0.5274\n",
            "Epoch 19/25\n",
            "10/10 [==============================] - 1s 60ms/step - loss: 0.6906 - accuracy: 0.5489\n",
            "Epoch 20/25\n",
            "10/10 [==============================] - 1s 62ms/step - loss: 0.7022 - accuracy: 0.3729\n",
            "Epoch 21/25\n",
            "10/10 [==============================] - 1s 157ms/step - loss: 0.6951 - accuracy: 0.4709\n",
            "Epoch 22/25\n",
            "10/10 [==============================] - 1s 63ms/step - loss: 0.6931 - accuracy: 0.5105\n",
            "Epoch 23/25\n",
            "10/10 [==============================] - 1s 59ms/step - loss: 0.6953 - accuracy: 0.4582\n",
            "Epoch 24/25\n",
            "10/10 [==============================] - 1s 60ms/step - loss: 0.6952 - accuracy: 0.4691\n",
            "Epoch 25/25\n",
            "10/10 [==============================] - 1s 61ms/step - loss: 0.6937 - accuracy: 0.4977\n",
            "-----------------------------\n",
            "-----------------------------\n",
            "Doing Adagrad optimizer\n",
            "-----------------------------\n",
            "Epoch 1/25\n",
            "10/10 [==============================] - 1s 59ms/step - loss: 0.8361 - accuracy: 0.4308\n",
            "Epoch 2/25\n",
            "10/10 [==============================] - 1s 58ms/step - loss: 0.8125 - accuracy: 0.3911\n",
            "Epoch 3/25\n",
            "10/10 [==============================] - 1s 59ms/step - loss: 0.6639 - accuracy: 0.6064\n",
            "Epoch 4/25\n",
            "10/10 [==============================] - 1s 55ms/step - loss: 0.7118 - accuracy: 0.5202\n",
            "Epoch 5/25\n",
            "10/10 [==============================] - 1s 58ms/step - loss: 0.7416 - accuracy: 0.5019\n",
            "Epoch 6/25\n",
            "10/10 [==============================] - 1s 61ms/step - loss: 0.6630 - accuracy: 0.6631\n",
            "Epoch 7/25\n",
            "10/10 [==============================] - 1s 57ms/step - loss: 0.7861 - accuracy: 0.4186\n",
            "Epoch 8/25\n",
            "10/10 [==============================] - 1s 64ms/step - loss: 0.7679 - accuracy: 0.4722\n",
            "Epoch 9/25\n",
            "10/10 [==============================] - 1s 65ms/step - loss: 0.7324 - accuracy: 0.5199\n",
            "Epoch 10/25\n",
            "10/10 [==============================] - 1s 62ms/step - loss: 0.7880 - accuracy: 0.3523\n",
            "Epoch 11/25\n",
            "10/10 [==============================] - 1s 57ms/step - loss: 0.6938 - accuracy: 0.5342\n",
            "Epoch 12/25\n",
            "10/10 [==============================] - 1s 61ms/step - loss: 0.6727 - accuracy: 0.5487\n",
            "Epoch 13/25\n",
            "10/10 [==============================] - 1s 60ms/step - loss: 0.6721 - accuracy: 0.6211\n",
            "Epoch 14/25\n",
            "10/10 [==============================] - 1s 52ms/step - loss: 0.6871 - accuracy: 0.5128\n",
            "Epoch 15/25\n",
            "10/10 [==============================] - 1s 114ms/step - loss: 0.7402 - accuracy: 0.3060\n",
            "Epoch 16/25\n",
            "10/10 [==============================] - 1s 58ms/step - loss: 0.7093 - accuracy: 0.4559\n",
            "Epoch 17/25\n",
            "10/10 [==============================] - 1s 57ms/step - loss: 0.7050 - accuracy: 0.4764\n",
            "Epoch 18/25\n",
            "10/10 [==============================] - 1s 57ms/step - loss: 0.6549 - accuracy: 0.6075\n",
            "Epoch 19/25\n",
            "10/10 [==============================] - 1s 58ms/step - loss: 0.6945 - accuracy: 0.6625\n",
            "Epoch 20/25\n",
            "10/10 [==============================] - 1s 61ms/step - loss: 0.7179 - accuracy: 0.6199\n",
            "Epoch 21/25\n",
            "10/10 [==============================] - 1s 58ms/step - loss: 0.6872 - accuracy: 0.5328\n",
            "Epoch 22/25\n",
            "10/10 [==============================] - 1s 51ms/step - loss: 0.6518 - accuracy: 0.5728\n",
            "Epoch 23/25\n",
            "10/10 [==============================] - 1s 56ms/step - loss: 0.7010 - accuracy: 0.5293\n",
            "Epoch 24/25\n",
            "10/10 [==============================] - 1s 61ms/step - loss: 0.6963 - accuracy: 0.6047\n",
            "Epoch 25/25\n",
            "10/10 [==============================] - 1s 57ms/step - loss: 0.6914 - accuracy: 0.4888\n",
            "-----------------------------\n",
            "-----------------------------\n",
            "Doing Adam optimizer\n",
            "-----------------------------\n",
            "Epoch 1/25\n",
            "10/10 [==============================] - 1s 60ms/step - loss: 0.8438 - accuracy: 0.4177\n",
            "Epoch 2/25\n",
            "10/10 [==============================] - 1s 60ms/step - loss: 0.7466 - accuracy: 0.4581\n",
            "Epoch 3/25\n",
            "10/10 [==============================] - 1s 57ms/step - loss: 0.8137 - accuracy: 0.4424\n",
            "Epoch 4/25\n",
            "10/10 [==============================] - 1s 56ms/step - loss: 0.7779 - accuracy: 0.6007\n",
            "Epoch 5/25\n",
            "10/10 [==============================] - 1s 61ms/step - loss: 0.6885 - accuracy: 0.5365\n",
            "Epoch 6/25\n",
            "10/10 [==============================] - 1s 55ms/step - loss: 0.7229 - accuracy: 0.5466\n",
            "Epoch 7/25\n",
            "10/10 [==============================] - 1s 58ms/step - loss: 0.7075 - accuracy: 0.4169\n",
            "Epoch 8/25\n",
            "10/10 [==============================] - 1s 56ms/step - loss: 0.7622 - accuracy: 0.3358\n",
            "Epoch 9/25\n",
            "10/10 [==============================] - 1s 51ms/step - loss: 0.6781 - accuracy: 0.6042\n",
            "Epoch 10/25\n",
            "10/10 [==============================] - 1s 51ms/step - loss: 0.7376 - accuracy: 0.5028\n",
            "Epoch 11/25\n",
            "10/10 [==============================] - 1s 58ms/step - loss: 0.6732 - accuracy: 0.6119\n",
            "Epoch 12/25\n",
            "10/10 [==============================] - 1s 57ms/step - loss: 0.7467 - accuracy: 0.4408\n",
            "Epoch 13/25\n",
            "10/10 [==============================] - 1s 57ms/step - loss: 0.7250 - accuracy: 0.5592\n",
            "Epoch 14/25\n",
            "10/10 [==============================] - 1s 57ms/step - loss: 0.6881 - accuracy: 0.6102\n",
            "Epoch 15/25\n",
            "10/10 [==============================] - 1s 56ms/step - loss: 0.6210 - accuracy: 0.6872\n",
            "Epoch 16/25\n",
            "10/10 [==============================] - 1s 56ms/step - loss: 0.7035 - accuracy: 0.6380\n",
            "Epoch 17/25\n",
            "10/10 [==============================] - 1s 53ms/step - loss: 0.7448 - accuracy: 0.3646\n",
            "Epoch 18/25\n",
            "10/10 [==============================] - 1s 64ms/step - loss: 0.7094 - accuracy: 0.4674\n",
            "Epoch 19/25\n",
            "10/10 [==============================] - 1s 59ms/step - loss: 0.7205 - accuracy: 0.5212\n",
            "Epoch 20/25\n",
            "10/10 [==============================] - 1s 60ms/step - loss: 0.6884 - accuracy: 0.5715\n",
            "Epoch 21/25\n",
            "10/10 [==============================] - 1s 61ms/step - loss: 0.7038 - accuracy: 0.5246\n",
            "Epoch 22/25\n",
            "10/10 [==============================] - 1s 57ms/step - loss: 0.7162 - accuracy: 0.4976\n",
            "Epoch 23/25\n",
            "10/10 [==============================] - 1s 55ms/step - loss: 0.6733 - accuracy: 0.6073\n",
            "Epoch 24/25\n",
            "10/10 [==============================] - 1s 57ms/step - loss: 0.6999 - accuracy: 0.4991\n",
            "Epoch 25/25\n",
            "10/10 [==============================] - 1s 58ms/step - loss: 0.6881 - accuracy: 0.5696\n",
            "-----------------------------\n"
          ],
          "name": "stdout"
        }
      ]
    },
    {
      "cell_type": "code",
      "metadata": {
        "id": "m7Sz9rDJAc4u",
        "colab": {
          "base_uri": "https://localhost:8080/",
          "height": 295
        },
        "outputId": "ef293217-768c-4eec-a131-9d4b6eac7cc6"
      },
      "source": [
        "for i in range(len(optimizer_list)):\n",
        "    plt.plot(hist_acc[i],'-o',label=str(optimizer_names[i]))\n",
        "plt.title('model accuracy on train')\n",
        "plt.ylabel('accuracy')\n",
        "plt.xlabel('epoch')\n",
        "plt.legend(loc='upper left')\n",
        "plt.show()"
      ],
      "execution_count": 19,
      "outputs": [
        {
          "output_type": "display_data",
          "data": {
            "image/png": "[encoded data removed]",
            "text/plain": [
              "<Figure size 432x288 with 1 Axes>"
            ]
          },
          "metadata": {
            "tags": [],
            "needs_background": "light"
          }
        }
      ]
    },
    {
      "cell_type": "code",
      "metadata": {
        "id": "QJVO54gLAcy6",
        "colab": {
          "base_uri": "https://localhost:8080/",
          "height": 295
        },
        "outputId": "ff96ce7a-d80f-4ab4-d379-88aaa75f683e"
      },
      "source": [
        "# summarize history for accuracy on test set\n",
        "for i in range(len(optimizer_list)):\n",
        "    plt.plot(hist_val_acc[i],'-o', label=str(optimizer_names[i]))\n",
        "plt.title('model accuracy on test')\n",
        "plt.ylabel('accuracy')\n",
        "plt.xlabel('epoch')\n",
        "plt.legend(loc='upper left')\n",
        "plt.show()"
      ],
      "execution_count": 20,
      "outputs": [
        {
          "output_type": "display_data",
          "data": {
            "image/png": "[encoded data removed]",
            "text/plain": [
              "<Figure size 432x288 with 1 Axes>"
            ]
          },
          "metadata": {
            "tags": [],
            "needs_background": "light"
          }
        }
      ]
    },
    {
      "cell_type": "code",
      "metadata": {
        "id": "RaJBVQt2A9T9"
      },
      "source": [
        "nepochs = 50"
      ],
      "execution_count": 21,
      "outputs": []
    },
    {
      "cell_type": "code",
      "metadata": {
        "id": "MeldrJLKA9RJ"
      },
      "source": [
        "# Implement formula (15)\n",
        "initial_learning_rate = 0.01\n",
        "epochs = nepochs\n",
        "decay = initial_learning_rate / epochs\n",
        "\n",
        "def lr_time_based_decay(epoch, lr):\n",
        "    return initial_learning_rate * 1 / (1 + decay * epoch)"
      ],
      "execution_count": 22,
      "outputs": []
    },
    {
      "cell_type": "code",
      "metadata": {
        "id": "xmSVP1SKA9ON",
        "colab": {
          "base_uri": "https://localhost:8080/",
          "height": 279
        },
        "outputId": "94a438a8-6812-42fc-f94e-1ef3c07968a7"
      },
      "source": [
        "# Plot the learning rate as a function of the number of epochs\n",
        "plt.plot(lr_time_based_decay(np.arange(0,nepochs),0.01))\n",
        "plt.ylabel('learning rate')\n",
        "plt.xlabel('epoch')\n",
        "plt.show()"
      ],
      "execution_count": 23,
      "outputs": [
        {
          "output_type": "display_data",
          "data": {
            "image/png": "[encoded data removed]",
            "text/plain": [
              "<Figure size 432x288 with 1 Axes>"
            ]
          },
          "metadata": {
            "tags": [],
            "needs_background": "light"
          }
        }
      ]
    },
    {
      "cell_type": "code",
      "metadata": {
        "id": "z-7aZT5CA9LS",
        "colab": {
          "base_uri": "https://localhost:8080/"
        },
        "outputId": "0d88b0cd-2b52-4b4d-8f43-929260c6d216"
      },
      "source": [
        "model = build_compile()\n",
        "history_time_based_decay = model.fit(\n",
        "    train_generator,  \n",
        "    epochs=nepochs, \n",
        "    batch_size=32,\n",
        "    callbacks=[keras.callbacks.LearningRateScheduler(lr_time_based_decay, verbose=1)], validation_data=(validation_generator))"
      ],
      "execution_count": 24,
      "outputs": [
        {
          "output_type": "stream",
          "text": [
            "Epoch 1/50\n",
            "\n",
            "Epoch 00001: LearningRateScheduler reducing learning rate to 0.01.\n",
            "134/134 [==============================] - 9s 60ms/step - loss: 0.6938 - accuracy: 0.4940\n",
            "Epoch 2/50\n",
            "\n",
            "Epoch 00002: LearningRateScheduler reducing learning rate to 0.009998000399920017.\n",
            "134/134 [==============================] - 8s 59ms/step - loss: 0.6902 - accuracy: 0.5422\n",
            "Epoch 3/50\n",
            "\n",
            "Epoch 00003: LearningRateScheduler reducing learning rate to 0.009996001599360257.\n",
            "134/134 [==============================] - 8s 59ms/step - loss: 0.6906 - accuracy: 0.5388\n",
            "Epoch 4/50\n",
            "\n",
            "Epoch 00004: LearningRateScheduler reducing learning rate to 0.009994003597841297.\n",
            "134/134 [==============================] - 8s 57ms/step - loss: 0.6951 - accuracy: 0.5124\n",
            "Epoch 5/50\n",
            "\n",
            "Epoch 00005: LearningRateScheduler reducing learning rate to 0.009992006394884094.\n",
            "134/134 [==============================] - 8s 57ms/step - loss: 0.6840 - accuracy: 0.5720\n",
            "Epoch 6/50\n",
            "\n",
            "Epoch 00006: LearningRateScheduler reducing learning rate to 0.009990009990009992.\n",
            "134/134 [==============================] - 8s 58ms/step - loss: 0.6908 - accuracy: 0.5373\n",
            "Epoch 7/50\n",
            "\n",
            "Epoch 00007: LearningRateScheduler reducing learning rate to 0.00998801438274071.\n",
            "134/134 [==============================] - 8s 60ms/step - loss: 0.6932 - accuracy: 0.5253\n",
            "Epoch 8/50\n",
            "\n",
            "Epoch 00008: LearningRateScheduler reducing learning rate to 0.009986019572598362.\n",
            "134/134 [==============================] - 8s 61ms/step - loss: 0.6904 - accuracy: 0.5381\n",
            "Epoch 9/50\n",
            "\n",
            "Epoch 00009: LearningRateScheduler reducing learning rate to 0.009984025559105431.\n",
            "134/134 [==============================] - 8s 63ms/step - loss: 0.6932 - accuracy: 0.5275\n",
            "Epoch 10/50\n",
            "\n",
            "Epoch 00010: LearningRateScheduler reducing learning rate to 0.009982032341784788.\n",
            "134/134 [==============================] - 8s 58ms/step - loss: 0.6912 - accuracy: 0.5359\n",
            "Epoch 11/50\n",
            "\n",
            "Epoch 00011: LearningRateScheduler reducing learning rate to 0.00998003992015968.\n",
            "134/134 [==============================] - 8s 59ms/step - loss: 0.6943 - accuracy: 0.5213\n",
            "Epoch 12/50\n",
            "\n",
            "Epoch 00012: LearningRateScheduler reducing learning rate to 0.009978048293753742.\n",
            "134/134 [==============================] - 8s 58ms/step - loss: 0.6841 - accuracy: 0.5715\n",
            "Epoch 13/50\n",
            "\n",
            "Epoch 00013: LearningRateScheduler reducing learning rate to 0.009976057462090982.\n",
            "134/134 [==============================] - 8s 59ms/step - loss: 0.6925 - accuracy: 0.5256\n",
            "Epoch 14/50\n",
            "\n",
            "Epoch 00014: LearningRateScheduler reducing learning rate to 0.009974067424695792.\n",
            "134/134 [==============================] - 8s 57ms/step - loss: 0.6873 - accuracy: 0.5561\n",
            "Epoch 15/50\n",
            "\n",
            "Epoch 00015: LearningRateScheduler reducing learning rate to 0.009972078181092942.\n",
            "134/134 [==============================] - 8s 60ms/step - loss: 0.6902 - accuracy: 0.5420\n",
            "Epoch 16/50\n",
            "\n",
            "Epoch 00016: LearningRateScheduler reducing learning rate to 0.009970089730807579.\n",
            "134/134 [==============================] - 8s 61ms/step - loss: 0.6927 - accuracy: 0.5289\n",
            "Epoch 17/50\n",
            "\n",
            "Epoch 00017: LearningRateScheduler reducing learning rate to 0.00996810207336523.\n",
            "134/134 [==============================] - 8s 61ms/step - loss: 0.6817 - accuracy: 0.5818\n",
            "Epoch 18/50\n",
            "\n",
            "Epoch 00018: LearningRateScheduler reducing learning rate to 0.009966115208291807.\n",
            "134/134 [==============================] - 8s 61ms/step - loss: 0.6900 - accuracy: 0.5419\n",
            "Epoch 19/50\n",
            "\n",
            "Epoch 00019: LearningRateScheduler reducing learning rate to 0.00996412913511359.\n",
            "134/134 [==============================] - 8s 61ms/step - loss: 0.6868 - accuracy: 0.5585\n",
            "Epoch 20/50\n",
            "\n",
            "Epoch 00020: LearningRateScheduler reducing learning rate to 0.009962143853357242.\n",
            "134/134 [==============================] - 8s 59ms/step - loss: 0.6892 - accuracy: 0.5462\n",
            "Epoch 21/50\n",
            "\n",
            "Epoch 00021: LearningRateScheduler reducing learning rate to 0.0099601593625498.\n",
            "134/134 [==============================] - 8s 59ms/step - loss: 0.6843 - accuracy: 0.5708\n",
            "Epoch 22/50\n",
            "\n",
            "Epoch 00022: LearningRateScheduler reducing learning rate to 0.009958175662218682.\n",
            "134/134 [==============================] - 8s 58ms/step - loss: 0.6856 - accuracy: 0.5659\n",
            "Epoch 23/50\n",
            "\n",
            "Epoch 00023: LearningRateScheduler reducing learning rate to 0.009956192751891677.\n",
            "134/134 [==============================] - 8s 59ms/step - loss: 0.6871 - accuracy: 0.5601\n",
            "Epoch 24/50\n",
            "\n",
            "Epoch 00024: LearningRateScheduler reducing learning rate to 0.009954210631096954.\n",
            "134/134 [==============================] - 8s 62ms/step - loss: 0.6881 - accuracy: 0.5521\n",
            "Epoch 25/50\n",
            "\n",
            "Epoch 00025: LearningRateScheduler reducing learning rate to 0.009952229299363059.\n",
            "134/134 [==============================] - 8s 60ms/step - loss: 0.6948 - accuracy: 0.5138\n",
            "Epoch 26/50\n",
            "\n",
            "Epoch 00026: LearningRateScheduler reducing learning rate to 0.009950248756218907.\n",
            "134/134 [==============================] - 8s 61ms/step - loss: 0.6922 - accuracy: 0.5324\n",
            "Epoch 27/50\n",
            "\n",
            "Epoch 00027: LearningRateScheduler reducing learning rate to 0.00994826900119379.\n",
            "134/134 [==============================] - 8s 59ms/step - loss: 0.6913 - accuracy: 0.5379\n",
            "Epoch 28/50\n",
            "\n",
            "Epoch 00028: LearningRateScheduler reducing learning rate to 0.009946290033817386.\n",
            "134/134 [==============================] - 8s 62ms/step - loss: 0.6849 - accuracy: 0.5680\n",
            "Epoch 29/50\n",
            "\n",
            "Epoch 00029: LearningRateScheduler reducing learning rate to 0.00994431185361973.\n",
            "134/134 [==============================] - 8s 61ms/step - loss: 0.6858 - accuracy: 0.5631\n",
            "Epoch 30/50\n",
            "\n",
            "Epoch 00030: LearningRateScheduler reducing learning rate to 0.00994233446013124.\n",
            "134/134 [==============================] - 8s 60ms/step - loss: 0.6897 - accuracy: 0.5439\n",
            "Epoch 31/50\n",
            "\n",
            "Epoch 00031: LearningRateScheduler reducing learning rate to 0.009940357852882704.\n",
            "134/134 [==============================] - 8s 59ms/step - loss: 0.6887 - accuracy: 0.5496\n",
            "Epoch 32/50\n",
            "\n",
            "Epoch 00032: LearningRateScheduler reducing learning rate to 0.009938382031405287.\n",
            "134/134 [==============================] - 8s 59ms/step - loss: 0.6867 - accuracy: 0.5595\n",
            "Epoch 33/50\n",
            "\n",
            "Epoch 00033: LearningRateScheduler reducing learning rate to 0.009936406995230525.\n",
            "134/134 [==============================] - 8s 60ms/step - loss: 0.6817 - accuracy: 0.5843\n",
            "Epoch 34/50\n",
            "\n",
            "Epoch 00034: LearningRateScheduler reducing learning rate to 0.009934432743890324.\n",
            "134/134 [==============================] - 8s 60ms/step - loss: 0.6904 - accuracy: 0.5399\n",
            "Epoch 35/50\n",
            "\n",
            "Epoch 00035: LearningRateScheduler reducing learning rate to 0.009932459276916966.\n",
            "134/134 [==============================] - 8s 58ms/step - loss: 0.6893 - accuracy: 0.5466\n",
            "Epoch 36/50\n",
            "\n",
            "Epoch 00036: LearningRateScheduler reducing learning rate to 0.0099304865938431.\n",
            "134/134 [==============================] - 8s 61ms/step - loss: 0.6884 - accuracy: 0.5501\n",
            "Epoch 37/50\n",
            "\n",
            "Epoch 00037: LearningRateScheduler reducing learning rate to 0.009928514694201746.\n",
            "134/134 [==============================] - 8s 61ms/step - loss: 0.6836 - accuracy: 0.5734\n",
            "Epoch 38/50\n",
            "\n",
            "Epoch 00038: LearningRateScheduler reducing learning rate to 0.009926543577526304.\n",
            "134/134 [==============================] - 8s 62ms/step - loss: 0.6818 - accuracy: 0.5824\n",
            "Epoch 39/50\n",
            "\n",
            "Epoch 00039: LearningRateScheduler reducing learning rate to 0.009924573243350535.\n",
            "134/134 [==============================] - 8s 58ms/step - loss: 0.6922 - accuracy: 0.5269\n",
            "Epoch 40/50\n",
            "\n",
            "Epoch 00040: LearningRateScheduler reducing learning rate to 0.009922603691208573.\n",
            "134/134 [==============================] - 8s 58ms/step - loss: 0.6888 - accuracy: 0.5496\n",
            "Epoch 41/50\n",
            "\n",
            "Epoch 00041: LearningRateScheduler reducing learning rate to 0.00992063492063492.\n",
            "134/134 [==============================] - 8s 60ms/step - loss: 0.6870 - accuracy: 0.5574\n",
            "Epoch 42/50\n",
            "\n",
            "Epoch 00042: LearningRateScheduler reducing learning rate to 0.009918666931164452.\n",
            "134/134 [==============================] - 8s 59ms/step - loss: 0.6889 - accuracy: 0.5494\n",
            "Epoch 43/50\n",
            "\n",
            "Epoch 00043: LearningRateScheduler reducing learning rate to 0.009916699722332408.\n",
            "134/134 [==============================] - 8s 58ms/step - loss: 0.6900 - accuracy: 0.5421\n",
            "Epoch 44/50\n",
            "\n",
            "Epoch 00044: LearningRateScheduler reducing learning rate to 0.009914733293674401.\n",
            "134/134 [==============================] - 8s 61ms/step - loss: 0.6880 - accuracy: 0.5530\n",
            "Epoch 45/50\n",
            "\n",
            "Epoch 00045: LearningRateScheduler reducing learning rate to 0.009912767644726409.\n",
            "134/134 [==============================] - 8s 60ms/step - loss: 0.6891 - accuracy: 0.5470\n",
            "Epoch 46/50\n",
            "\n",
            "Epoch 00046: LearningRateScheduler reducing learning rate to 0.009910802775024779.\n",
            "134/134 [==============================] - 8s 61ms/step - loss: 0.6846 - accuracy: 0.5690\n",
            "Epoch 47/50\n",
            "\n",
            "Epoch 00047: LearningRateScheduler reducing learning rate to 0.009908838684106223.\n",
            "134/134 [==============================] - 8s 60ms/step - loss: 0.6927 - accuracy: 0.5279\n",
            "Epoch 48/50\n",
            "\n",
            "Epoch 00048: LearningRateScheduler reducing learning rate to 0.009906875371507825.\n",
            "134/134 [==============================] - 8s 60ms/step - loss: 0.6909 - accuracy: 0.5383\n",
            "Epoch 49/50\n",
            "\n",
            "Epoch 00049: LearningRateScheduler reducing learning rate to 0.009904912836767036.\n",
            "134/134 [==============================] - 8s 58ms/step - loss: 0.6958 - accuracy: 0.5085\n",
            "Epoch 50/50\n",
            "\n",
            "Epoch 00050: LearningRateScheduler reducing learning rate to 0.009902951079421667.\n",
            "134/134 [==============================] - 8s 58ms/step - loss: 0.6852 - accuracy: 0.5654\n"
          ],
          "name": "stdout"
        }
      ]
    },
    {
      "cell_type": "code",
      "metadata": {
        "id": "3HpP7pZXA9H1"
      },
      "source": [
        "# Implement formula (16)\n",
        "initial_learning_rate = 0.01\n",
        "def lr_step_decay(epoch, lr):\n",
        "    drop_rate = 0.5\n",
        "    epochs_drop = 10.0\n",
        "    return initial_learning_rate * np.power(drop_rate, np.floor(epoch/epochs_drop))"
      ],
      "execution_count": 25,
      "outputs": []
    },
    {
      "cell_type": "code",
      "metadata": {
        "id": "ujNzDWVjA9Dj",
        "colab": {
          "base_uri": "https://localhost:8080/",
          "height": 279
        },
        "outputId": "47d03155-e389-4440-cdb0-5757bba4cc62"
      },
      "source": [
        "# Plot the learning rate as a function of the number of epochs\n",
        "plt.plot(lr_step_decay(np.arange(0,nepochs),0.01))\n",
        "plt.ylabel('learning rate')\n",
        "plt.xlabel('epoch')\n",
        "plt.show()"
      ],
      "execution_count": 26,
      "outputs": [
        {
          "output_type": "display_data",
          "data": {
            "image/png": "[encoded data removed]",
            "text/plain": [
              "<Figure size 432x288 with 1 Axes>"
            ]
          },
          "metadata": {
            "tags": [],
            "needs_background": "light"
          }
        }
      ]
    },
    {
      "cell_type": "code",
      "metadata": {
        "id": "1b0r4BR7A9AW",
        "colab": {
          "base_uri": "https://localhost:8080/"
        },
        "outputId": "7ad53973-5a01-4812-bb7a-e5620559a0e5"
      },
      "source": [
        "model = build_compile()\n",
        "history_step_decay = model.fit(\n",
        "    train_generator, \n",
        "    epochs=nepochs, \n",
        "    batch_size=32,\n",
        "    callbacks=[keras.callbacks.LearningRateScheduler(lr_step_decay, verbose=1)], validation_data=(validation_generator))"
      ],
      "execution_count": 27,
      "outputs": [
        {
          "output_type": "stream",
          "text": [
            "Epoch 1/50\n",
            "\n",
            "Epoch 00001: LearningRateScheduler reducing learning rate to 0.01.\n",
            "134/134 [==============================] - 9s 59ms/step - loss: 0.7537 - accuracy: 0.5083\n",
            "Epoch 2/50\n",
            "\n",
            "Epoch 00002: LearningRateScheduler reducing learning rate to 0.01.\n",
            "134/134 [==============================] - 8s 60ms/step - loss: 0.6929 - accuracy: 0.5407\n",
            "Epoch 3/50\n",
            "\n",
            "Epoch 00003: LearningRateScheduler reducing learning rate to 0.01.\n",
            "134/134 [==============================] - 8s 61ms/step - loss: 0.6876 - accuracy: 0.5765\n",
            "Epoch 4/50\n",
            "\n",
            "Epoch 00004: LearningRateScheduler reducing learning rate to 0.01.\n",
            "134/134 [==============================] - 8s 63ms/step - loss: 0.6918 - accuracy: 0.5293\n",
            "Epoch 5/50\n",
            "\n",
            "Epoch 00005: LearningRateScheduler reducing learning rate to 0.01.\n",
            "134/134 [==============================] - 8s 61ms/step - loss: 0.6890 - accuracy: 0.5682\n",
            "Epoch 6/50\n",
            "\n",
            "Epoch 00006: LearningRateScheduler reducing learning rate to 0.01.\n",
            "134/134 [==============================] - 8s 60ms/step - loss: 0.6895 - accuracy: 0.5559\n",
            "Epoch 7/50\n",
            "\n",
            "Epoch 00007: LearningRateScheduler reducing learning rate to 0.01.\n",
            "134/134 [==============================] - 8s 59ms/step - loss: 0.6867 - accuracy: 0.5621\n",
            "Epoch 8/50\n",
            "\n",
            "Epoch 00008: LearningRateScheduler reducing learning rate to 0.01.\n",
            "134/134 [==============================] - 8s 59ms/step - loss: 0.6926 - accuracy: 0.5228\n",
            "Epoch 9/50\n",
            "\n",
            "Epoch 00009: LearningRateScheduler reducing learning rate to 0.01.\n",
            "134/134 [==============================] - 8s 59ms/step - loss: 0.6888 - accuracy: 0.5476\n",
            "Epoch 10/50\n",
            "\n",
            "Epoch 00010: LearningRateScheduler reducing learning rate to 0.01.\n",
            "134/134 [==============================] - 8s 59ms/step - loss: 0.6883 - accuracy: 0.5538\n",
            "Epoch 11/50\n",
            "\n",
            "Epoch 00011: LearningRateScheduler reducing learning rate to 0.005.\n",
            "134/134 [==============================] - 8s 62ms/step - loss: 0.6894 - accuracy: 0.5442\n",
            "Epoch 12/50\n",
            "\n",
            "Epoch 00012: LearningRateScheduler reducing learning rate to 0.005.\n",
            "134/134 [==============================] - 8s 61ms/step - loss: 0.6830 - accuracy: 0.5799\n",
            "Epoch 13/50\n",
            "\n",
            "Epoch 00013: LearningRateScheduler reducing learning rate to 0.005.\n",
            "134/134 [==============================] - 8s 59ms/step - loss: 0.6859 - accuracy: 0.5636\n",
            "Epoch 14/50\n",
            "\n",
            "Epoch 00014: LearningRateScheduler reducing learning rate to 0.005.\n",
            "134/134 [==============================] - 8s 58ms/step - loss: 0.6934 - accuracy: 0.5216\n",
            "Epoch 15/50\n",
            "\n",
            "Epoch 00015: LearningRateScheduler reducing learning rate to 0.005.\n",
            "134/134 [==============================] - 8s 58ms/step - loss: 0.6868 - accuracy: 0.5574\n",
            "Epoch 16/50\n",
            "\n",
            "Epoch 00016: LearningRateScheduler reducing learning rate to 0.005.\n",
            "134/134 [==============================] - 8s 57ms/step - loss: 0.6880 - accuracy: 0.5515\n",
            "Epoch 17/50\n",
            "\n",
            "Epoch 00017: LearningRateScheduler reducing learning rate to 0.005.\n",
            "134/134 [==============================] - 8s 57ms/step - loss: 0.6878 - accuracy: 0.5528\n",
            "Epoch 18/50\n",
            "\n",
            "Epoch 00018: LearningRateScheduler reducing learning rate to 0.005.\n",
            "134/134 [==============================] - 8s 59ms/step - loss: 0.6849 - accuracy: 0.5677\n",
            "Epoch 19/50\n",
            "\n",
            "Epoch 00019: LearningRateScheduler reducing learning rate to 0.005.\n",
            "134/134 [==============================] - 8s 62ms/step - loss: 0.6909 - accuracy: 0.5356\n",
            "Epoch 20/50\n",
            "\n",
            "Epoch 00020: LearningRateScheduler reducing learning rate to 0.005.\n",
            "134/134 [==============================] - 8s 63ms/step - loss: 0.6873 - accuracy: 0.5552\n",
            "Epoch 21/50\n",
            "\n",
            "Epoch 00021: LearningRateScheduler reducing learning rate to 0.0025.\n",
            "134/134 [==============================] - 8s 61ms/step - loss: 0.6853 - accuracy: 0.5644\n",
            "Epoch 22/50\n",
            "\n",
            "Epoch 00022: LearningRateScheduler reducing learning rate to 0.0025.\n",
            "134/134 [==============================] - 8s 59ms/step - loss: 0.6875 - accuracy: 0.5540\n",
            "Epoch 23/50\n",
            "\n",
            "Epoch 00023: LearningRateScheduler reducing learning rate to 0.0025.\n",
            "134/134 [==============================] - 8s 62ms/step - loss: 0.6914 - accuracy: 0.5339\n",
            "Epoch 24/50\n",
            "\n",
            "Epoch 00024: LearningRateScheduler reducing learning rate to 0.0025.\n",
            "134/134 [==============================] - 8s 63ms/step - loss: 0.6978 - accuracy: 0.4997\n",
            "Epoch 25/50\n",
            "\n",
            "Epoch 00025: LearningRateScheduler reducing learning rate to 0.0025.\n",
            "134/134 [==============================] - 8s 60ms/step - loss: 0.6851 - accuracy: 0.5664\n",
            "Epoch 26/50\n",
            "\n",
            "Epoch 00026: LearningRateScheduler reducing learning rate to 0.0025.\n",
            "134/134 [==============================] - 8s 60ms/step - loss: 0.6875 - accuracy: 0.5535\n",
            "Epoch 27/50\n",
            "\n",
            "Epoch 00027: LearningRateScheduler reducing learning rate to 0.0025.\n",
            "134/134 [==============================] - 8s 60ms/step - loss: 0.6922 - accuracy: 0.5287\n",
            "Epoch 28/50\n",
            "\n",
            "Epoch 00028: LearningRateScheduler reducing learning rate to 0.0025.\n",
            "134/134 [==============================] - 8s 60ms/step - loss: 0.6907 - accuracy: 0.5366\n",
            "Epoch 29/50\n",
            "\n",
            "Epoch 00029: LearningRateScheduler reducing learning rate to 0.0025.\n",
            "134/134 [==============================] - 8s 58ms/step - loss: 0.6853 - accuracy: 0.5651\n",
            "Epoch 30/50\n",
            "\n",
            "Epoch 00030: LearningRateScheduler reducing learning rate to 0.0025.\n",
            "134/134 [==============================] - 8s 58ms/step - loss: 0.6826 - accuracy: 0.5775\n",
            "Epoch 31/50\n",
            "\n",
            "Epoch 00031: LearningRateScheduler reducing learning rate to 0.00125.\n",
            "134/134 [==============================] - 8s 63ms/step - loss: 0.6883 - accuracy: 0.5498\n",
            "Epoch 32/50\n",
            "\n",
            "Epoch 00032: LearningRateScheduler reducing learning rate to 0.00125.\n",
            "134/134 [==============================] - 9s 64ms/step - loss: 0.6903 - accuracy: 0.5391\n",
            "Epoch 33/50\n",
            "\n",
            "Epoch 00033: LearningRateScheduler reducing learning rate to 0.00125.\n",
            "134/134 [==============================] - 8s 61ms/step - loss: 0.6899 - accuracy: 0.5413\n",
            "Epoch 34/50\n",
            "\n",
            "Epoch 00034: LearningRateScheduler reducing learning rate to 0.00125.\n",
            "134/134 [==============================] - 8s 60ms/step - loss: 0.6847 - accuracy: 0.5685\n",
            "Epoch 35/50\n",
            "\n",
            "Epoch 00035: LearningRateScheduler reducing learning rate to 0.00125.\n",
            "134/134 [==============================] - 8s 58ms/step - loss: 0.6910 - accuracy: 0.5351\n",
            "Epoch 36/50\n",
            "\n",
            "Epoch 00036: LearningRateScheduler reducing learning rate to 0.00125.\n",
            "134/134 [==============================] - 8s 59ms/step - loss: 0.6900 - accuracy: 0.5415\n",
            "Epoch 37/50\n",
            "\n",
            "Epoch 00037: LearningRateScheduler reducing learning rate to 0.00125.\n",
            "134/134 [==============================] - 8s 58ms/step - loss: 0.6902 - accuracy: 0.5392\n",
            "Epoch 38/50\n",
            "\n",
            "Epoch 00038: LearningRateScheduler reducing learning rate to 0.00125.\n",
            "134/134 [==============================] - 8s 58ms/step - loss: 0.6960 - accuracy: 0.5095\n",
            "Epoch 39/50\n",
            "\n",
            "Epoch 00039: LearningRateScheduler reducing learning rate to 0.00125.\n",
            "134/134 [==============================] - 8s 61ms/step - loss: 0.6850 - accuracy: 0.5664\n",
            "Epoch 40/50\n",
            "\n",
            "Epoch 00040: LearningRateScheduler reducing learning rate to 0.00125.\n",
            "134/134 [==============================] - 8s 62ms/step - loss: 0.6913 - accuracy: 0.5337\n",
            "Epoch 41/50\n",
            "\n",
            "Epoch 00041: LearningRateScheduler reducing learning rate to 0.000625.\n",
            "134/134 [==============================] - 8s 59ms/step - loss: 0.6872 - accuracy: 0.5536\n",
            "Epoch 42/50\n",
            "\n",
            "Epoch 00042: LearningRateScheduler reducing learning rate to 0.000625.\n",
            "134/134 [==============================] - 8s 58ms/step - loss: 0.6891 - accuracy: 0.5455\n",
            "Epoch 43/50\n",
            "\n",
            "Epoch 00043: LearningRateScheduler reducing learning rate to 0.000625.\n",
            "134/134 [==============================] - 8s 61ms/step - loss: 0.6870 - accuracy: 0.5560\n",
            "Epoch 44/50\n",
            "\n",
            "Epoch 00044: LearningRateScheduler reducing learning rate to 0.000625.\n",
            "134/134 [==============================] - 8s 60ms/step - loss: 0.6906 - accuracy: 0.5368\n",
            "Epoch 45/50\n",
            "\n",
            "Epoch 00045: LearningRateScheduler reducing learning rate to 0.000625.\n",
            "134/134 [==============================] - 8s 58ms/step - loss: 0.6816 - accuracy: 0.5844\n",
            "Epoch 46/50\n",
            "\n",
            "Epoch 00046: LearningRateScheduler reducing learning rate to 0.000625.\n",
            "134/134 [==============================] - 8s 58ms/step - loss: 0.6927 - accuracy: 0.5261\n",
            "Epoch 47/50\n",
            "\n",
            "Epoch 00047: LearningRateScheduler reducing learning rate to 0.000625.\n",
            "134/134 [==============================] - 8s 61ms/step - loss: 0.6863 - accuracy: 0.5603\n",
            "Epoch 48/50\n",
            "\n",
            "Epoch 00048: LearningRateScheduler reducing learning rate to 0.000625.\n",
            "134/134 [==============================] - 8s 61ms/step - loss: 0.6915 - accuracy: 0.5331\n",
            "Epoch 49/50\n",
            "\n",
            "Epoch 00049: LearningRateScheduler reducing learning rate to 0.000625.\n",
            "134/134 [==============================] - 8s 61ms/step - loss: 0.6864 - accuracy: 0.5595\n",
            "Epoch 50/50\n",
            "\n",
            "Epoch 00050: LearningRateScheduler reducing learning rate to 0.000625.\n",
            "134/134 [==============================] - 8s 57ms/step - loss: 0.6873 - accuracy: 0.5539\n"
          ],
          "name": "stdout"
        }
      ]
    },
    {
      "cell_type": "code",
      "metadata": {
        "id": "bJvqI3DRBLpf"
      },
      "source": [
        "# Implement formula (17)\n",
        "initial_learning_rate = 0.01\n",
        "def lr_exp_decay(epoch, lr):\n",
        "    k = 0.1\n",
        "    return initial_learning_rate * np.exp(-k*epoch)"
      ],
      "execution_count": 28,
      "outputs": []
    },
    {
      "cell_type": "code",
      "metadata": {
        "id": "N61UAZquBLme",
        "colab": {
          "base_uri": "https://localhost:8080/",
          "height": 279
        },
        "outputId": "9335b646-b71d-4c07-8722-6a2db39afcb3"
      },
      "source": [
        "# Plot the learning rate as a function of the number of epochs\n",
        "plt.plot(lr_exp_decay(np.arange(0,nepochs),0.01))\n",
        "plt.ylabel('learning rate')\n",
        "plt.xlabel('epoch')\n",
        "plt.show()"
      ],
      "execution_count": 29,
      "outputs": [
        {
          "output_type": "display_data",
          "data": {
            "image/png": "[encoded data removed]",
            "text/plain": [
              "<Figure size 432x288 with 1 Axes>"
            ]
          },
          "metadata": {
            "tags": [],
            "needs_background": "light"
          }
        }
      ]
    },
    {
      "cell_type": "code",
      "metadata": {
        "id": "uao6BIlmBLjl",
        "colab": {
          "base_uri": "https://localhost:8080/"
        },
        "outputId": "643b04a0-7f70-465b-affe-3b288e6efc24"
      },
      "source": [
        "# Train the network with the learning rate schedule\n",
        "model = build_compile()\n",
        "history_exp_decay = model.fit(\n",
        "    train_generator, \n",
        "    epochs=nepochs, \n",
        "    batch_size=32,\n",
        "    callbacks=[keras.callbacks.LearningRateScheduler(lr_exp_decay, verbose=1)], validation_data=(validation_generator))"
      ],
      "execution_count": 30,
      "outputs": [
        {
          "output_type": "stream",
          "text": [
            "Epoch 1/50\n",
            "\n",
            "Epoch 00001: LearningRateScheduler reducing learning rate to 0.01.\n",
            "134/134 [==============================] - 8s 58ms/step - loss: 0.6937 - accuracy: 0.5256\n",
            "Epoch 2/50\n",
            "\n",
            "Epoch 00002: LearningRateScheduler reducing learning rate to 0.009048374180359595.\n",
            "134/134 [==============================] - 8s 58ms/step - loss: 0.6876 - accuracy: 0.5681\n",
            "Epoch 3/50\n",
            "\n",
            "Epoch 00003: LearningRateScheduler reducing learning rate to 0.008187307530779819.\n",
            "134/134 [==============================] - 8s 58ms/step - loss: 0.6923 - accuracy: 0.5378\n",
            "Epoch 4/50\n",
            "\n",
            "Epoch 00004: LearningRateScheduler reducing learning rate to 0.007408182206817179.\n",
            "134/134 [==============================] - 8s 58ms/step - loss: 0.6885 - accuracy: 0.5589\n",
            "Epoch 5/50\n",
            "\n",
            "Epoch 00005: LearningRateScheduler reducing learning rate to 0.006703200460356393.\n",
            "134/134 [==============================] - 8s 61ms/step - loss: 0.6889 - accuracy: 0.5508\n",
            "Epoch 6/50\n",
            "\n",
            "Epoch 00006: LearningRateScheduler reducing learning rate to 0.006065306597126334.\n",
            "134/134 [==============================] - 8s 60ms/step - loss: 0.6864 - accuracy: 0.5630\n",
            "Epoch 7/50\n",
            "\n",
            "Epoch 00007: LearningRateScheduler reducing learning rate to 0.005488116360940264.\n",
            "134/134 [==============================] - 8s 61ms/step - loss: 0.6848 - accuracy: 0.5754\n",
            "Epoch 8/50\n",
            "\n",
            "Epoch 00008: LearningRateScheduler reducing learning rate to 0.004965853037914095.\n",
            "134/134 [==============================] - 8s 59ms/step - loss: 0.6847 - accuracy: 0.5736\n",
            "Epoch 9/50\n",
            "\n",
            "Epoch 00009: LearningRateScheduler reducing learning rate to 0.004493289641172216.\n",
            "134/134 [==============================] - 8s 60ms/step - loss: 0.6905 - accuracy: 0.5409\n",
            "Epoch 10/50\n",
            "\n",
            "Epoch 00010: LearningRateScheduler reducing learning rate to 0.004065696597405992.\n",
            "134/134 [==============================] - 8s 61ms/step - loss: 0.6857 - accuracy: 0.5678\n",
            "Epoch 11/50\n",
            "\n",
            "Epoch 00011: LearningRateScheduler reducing learning rate to 0.0036787944117144234.\n",
            "134/134 [==============================] - 8s 61ms/step - loss: 0.6866 - accuracy: 0.5582\n",
            "Epoch 12/50\n",
            "\n",
            "Epoch 00012: LearningRateScheduler reducing learning rate to 0.003328710836980796.\n",
            "134/134 [==============================] - 8s 59ms/step - loss: 0.6863 - accuracy: 0.5632\n",
            "Epoch 13/50\n",
            "\n",
            "Epoch 00013: LearningRateScheduler reducing learning rate to 0.0030119421191220205.\n",
            "134/134 [==============================] - 8s 57ms/step - loss: 0.6911 - accuracy: 0.5328\n",
            "Epoch 14/50\n",
            "\n",
            "Epoch 00014: LearningRateScheduler reducing learning rate to 0.002725317930340126.\n",
            "134/134 [==============================] - 8s 59ms/step - loss: 0.6860 - accuracy: 0.5650\n",
            "Epoch 15/50\n",
            "\n",
            "Epoch 00015: LearningRateScheduler reducing learning rate to 0.0024659696394160645.\n",
            "134/134 [==============================] - 8s 59ms/step - loss: 0.6907 - accuracy: 0.5359\n",
            "Epoch 16/50\n",
            "\n",
            "Epoch 00016: LearningRateScheduler reducing learning rate to 0.0022313016014842983.\n",
            "134/134 [==============================] - 8s 58ms/step - loss: 0.6906 - accuracy: 0.5365\n",
            "Epoch 17/50\n",
            "\n",
            "Epoch 00017: LearningRateScheduler reducing learning rate to 0.002018965179946554.\n",
            "134/134 [==============================] - 8s 58ms/step - loss: 0.6872 - accuracy: 0.5569\n",
            "Epoch 18/50\n",
            "\n",
            "Epoch 00018: LearningRateScheduler reducing learning rate to 0.001826835240527346.\n",
            "134/134 [==============================] - 8s 62ms/step - loss: 0.6903 - accuracy: 0.5387\n",
            "Epoch 19/50\n",
            "\n",
            "Epoch 00019: LearningRateScheduler reducing learning rate to 0.0016529888822158654.\n",
            "134/134 [==============================] - 8s 60ms/step - loss: 0.6885 - accuracy: 0.5488\n",
            "Epoch 20/50\n",
            "\n",
            "Epoch 00020: LearningRateScheduler reducing learning rate to 0.0014956861922263505.\n",
            "134/134 [==============================] - 8s 59ms/step - loss: 0.6859 - accuracy: 0.5632\n",
            "Epoch 21/50\n",
            "\n",
            "Epoch 00021: LearningRateScheduler reducing learning rate to 0.0013533528323661271.\n",
            "134/134 [==============================] - 8s 59ms/step - loss: 0.6906 - accuracy: 0.5366\n",
            "Epoch 22/50\n",
            "\n",
            "Epoch 00022: LearningRateScheduler reducing learning rate to 0.001224564282529819.\n",
            "134/134 [==============================] - 8s 57ms/step - loss: 0.6845 - accuracy: 0.5710\n",
            "Epoch 23/50\n",
            "\n",
            "Epoch 00023: LearningRateScheduler reducing learning rate to 0.0011080315836233387.\n",
            "134/134 [==============================] - 8s 57ms/step - loss: 0.6936 - accuracy: 0.5203\n",
            "Epoch 24/50\n",
            "\n",
            "Epoch 00024: LearningRateScheduler reducing learning rate to 0.001002588437228037.\n",
            "134/134 [==============================] - 8s 56ms/step - loss: 0.6865 - accuracy: 0.5594\n",
            "Epoch 25/50\n",
            "\n",
            "Epoch 00025: LearningRateScheduler reducing learning rate to 0.0009071795328941247.\n",
            "134/134 [==============================] - 8s 57ms/step - loss: 0.6879 - accuracy: 0.5519\n",
            "Epoch 26/50\n",
            "\n",
            "Epoch 00026: LearningRateScheduler reducing learning rate to 0.0008208499862389881.\n",
            "134/134 [==============================] - 8s 61ms/step - loss: 0.6870 - accuracy: 0.5567\n",
            "Epoch 27/50\n",
            "\n",
            "Epoch 00027: LearningRateScheduler reducing learning rate to 0.0007427357821433388.\n",
            "134/134 [==============================] - 8s 62ms/step - loss: 0.6896 - accuracy: 0.5426\n",
            "Epoch 28/50\n",
            "\n",
            "Epoch 00028: LearningRateScheduler reducing learning rate to 0.0006720551273974976.\n",
            "134/134 [==============================] - 8s 62ms/step - loss: 0.6910 - accuracy: 0.5350\n",
            "Epoch 29/50\n",
            "\n",
            "Epoch 00029: LearningRateScheduler reducing learning rate to 0.0006081006262521795.\n",
            "134/134 [==============================] - 8s 59ms/step - loss: 0.6920 - accuracy: 0.5293\n",
            "Epoch 30/50\n",
            "\n",
            "Epoch 00030: LearningRateScheduler reducing learning rate to 0.0005502322005640721.\n",
            "134/134 [==============================] - 8s 58ms/step - loss: 0.6856 - accuracy: 0.5642\n",
            "Epoch 31/50\n",
            "\n",
            "Epoch 00031: LearningRateScheduler reducing learning rate to 0.0004978706836786395.\n",
            "134/134 [==============================] - 8s 57ms/step - loss: 0.6896 - accuracy: 0.5424\n",
            "Epoch 32/50\n",
            "\n",
            "Epoch 00032: LearningRateScheduler reducing learning rate to 0.000450492023935578.\n",
            "134/134 [==============================] - 8s 56ms/step - loss: 0.6890 - accuracy: 0.5457\n",
            "Epoch 33/50\n",
            "\n",
            "Epoch 00033: LearningRateScheduler reducing learning rate to 0.0004076220397836621.\n",
            "134/134 [==============================] - 8s 58ms/step - loss: 0.6897 - accuracy: 0.5421\n",
            "Epoch 34/50\n",
            "\n",
            "Epoch 00034: LearningRateScheduler reducing learning rate to 0.00036883167401239995.\n",
            "134/134 [==============================] - 8s 60ms/step - loss: 0.6864 - accuracy: 0.5594\n",
            "Epoch 35/50\n",
            "\n",
            "Epoch 00035: LearningRateScheduler reducing learning rate to 0.0003337326996032607.\n",
            "134/134 [==============================] - 8s 63ms/step - loss: 0.6942 - accuracy: 0.5172\n",
            "Epoch 36/50\n",
            "\n",
            "Epoch 00036: LearningRateScheduler reducing learning rate to 0.00030197383422318503.\n",
            "134/134 [==============================] - 8s 61ms/step - loss: 0.6938 - accuracy: 0.5196\n",
            "Epoch 37/50\n",
            "\n",
            "Epoch 00037: LearningRateScheduler reducing learning rate to 0.0002732372244729256.\n",
            "134/134 [==============================] - 8s 58ms/step - loss: 0.6856 - accuracy: 0.5638\n",
            "Epoch 38/50\n",
            "\n",
            "Epoch 00038: LearningRateScheduler reducing learning rate to 0.00024723526470339386.\n",
            "134/134 [==============================] - 8s 57ms/step - loss: 0.6882 - accuracy: 0.5499\n",
            "Epoch 39/50\n",
            "\n",
            "Epoch 00039: LearningRateScheduler reducing learning rate to 0.00022370771856165591.\n",
            "134/134 [==============================] - 8s 60ms/step - loss: 0.6934 - accuracy: 0.5218\n",
            "Epoch 40/50\n",
            "\n",
            "Epoch 00040: LearningRateScheduler reducing learning rate to 0.0002024191144580438.\n",
            "134/134 [==============================] - 8s 57ms/step - loss: 0.6855 - accuracy: 0.5645\n",
            "Epoch 41/50\n",
            "\n",
            "Epoch 00041: LearningRateScheduler reducing learning rate to 0.00018315638888734178.\n",
            "134/134 [==============================] - 8s 57ms/step - loss: 0.6948 - accuracy: 0.5141\n",
            "Epoch 42/50\n",
            "\n",
            "Epoch 00042: LearningRateScheduler reducing learning rate to 0.00016572675401761236.\n",
            "134/134 [==============================] - 8s 59ms/step - loss: 0.6863 - accuracy: 0.5600\n",
            "Epoch 43/50\n",
            "\n",
            "Epoch 00043: LearningRateScheduler reducing learning rate to 0.00014995576820477704.\n",
            "134/134 [==============================] - 8s 60ms/step - loss: 0.6873 - accuracy: 0.5547\n",
            "Epoch 44/50\n",
            "\n",
            "Epoch 00044: LearningRateScheduler reducing learning rate to 0.00013568559012200934.\n",
            "134/134 [==============================] - 8s 62ms/step - loss: 0.6887 - accuracy: 0.5473\n",
            "Epoch 45/50\n",
            "\n",
            "Epoch 00045: LearningRateScheduler reducing learning rate to 0.00012277339903068437.\n",
            "134/134 [==============================] - 8s 61ms/step - loss: 0.6909 - accuracy: 0.5353\n",
            "Epoch 46/50\n",
            "\n",
            "Epoch 00046: LearningRateScheduler reducing learning rate to 0.00011108996538242307.\n",
            "134/134 [==============================] - 8s 57ms/step - loss: 0.6886 - accuracy: 0.5478\n",
            "Epoch 47/50\n",
            "\n",
            "Epoch 00047: LearningRateScheduler reducing learning rate to 0.00010051835744633576.\n",
            "134/134 [==============================] - 8s 58ms/step - loss: 0.6824 - accuracy: 0.5813\n",
            "Epoch 48/50\n",
            "\n",
            "Epoch 00048: LearningRateScheduler reducing learning rate to 9.095277101695816e-05.\n",
            "134/134 [==============================] - 8s 58ms/step - loss: 0.6889 - accuracy: 0.5463\n",
            "Epoch 49/50\n",
            "\n",
            "Epoch 00049: LearningRateScheduler reducing learning rate to 8.229747049020023e-05.\n",
            "134/134 [==============================] - 8s 57ms/step - loss: 0.6859 - accuracy: 0.5625\n",
            "Epoch 50/50\n",
            "\n",
            "Epoch 00050: LearningRateScheduler reducing learning rate to 7.446583070924338e-05.\n",
            "134/134 [==============================] - 8s 58ms/step - loss: 0.6951 - accuracy: 0.5126\n"
          ],
          "name": "stdout"
        }
      ]
    },
    {
      "cell_type": "code",
      "metadata": {
        "id": "72gidypqBLga",
        "colab": {
          "base_uri": "https://localhost:8080/",
          "height": 295
        },
        "outputId": "4078254d-e82f-4235-d28c-4f922138241a"
      },
      "source": [
        "# summarize history for accuracy\n",
        "plt.plot(hist_acc[0],'-o',label='Constant')\n",
        "plt.plot(history_exp_decay.history['accuracy'],'-o', label=\"Exp. Decay\")\n",
        "plt.plot(history_step_decay.history['accuracy'],'-o', label=\"Step Decay\")\n",
        "plt.plot(history_time_based_decay.history['accuracy'],'-o', label=\"Time Decay\")\n",
        "plt.title('model accuracy on train')\n",
        "plt.ylabel('accuracy')\n",
        "plt.xlabel('epoch')\n",
        "plt.legend(loc='upper left')\n",
        "plt.show()"
      ],
      "execution_count": 31,
      "outputs": [
        {
          "output_type": "display_data",
          "data": {
            "image/png": "[encoded data removed]",
            "text/plain": [
              "<Figure size 432x288 with 1 Axes>"
            ]
          },
          "metadata": {
            "tags": [],
            "needs_background": "light"
          }
        }
      ]
    },
    {
      "cell_type": "code",
      "metadata": {
        "id": "Hx2FYyM8BLaB",
        "colab": {
          "base_uri": "https://localhost:8080/",
          "height": 295
        },
        "outputId": "45017b19-da01-4747-ad5d-6cd674650bf7"
      },
      "source": [
        "# summarize history for accuracy\n",
        "plt.plot(hist_val_acc[0],'-o',label='Constant')\n",
        "plt.plot(history_exp_decay.history['accuracy'],'-o', label=\"Exp. Decay\")\n",
        "plt.plot(history_step_decay.history['accuracy'],'-o', label=\"Step Decay\")\n",
        "plt.plot(history_time_based_decay.history['accuracy'],'-o', label=\"Time Decay\")\n",
        "plt.title('model accuracy on test')\n",
        "plt.ylabel('accuracy')\n",
        "plt.xlabel('epoch')\n",
        "plt.legend(loc='upper left')\n",
        "plt.show()\n"
      ],
      "execution_count": 33,
      "outputs": [
        {
          "output_type": "display_data",
          "data": {
            "image/png": "[encoded data removed]",
            "text/plain": [
              "<Figure size 432x288 with 1 Axes>"
            ]
          },
          "metadata": {
            "tags": [],
            "needs_background": "light"
          }
        }
      ]
    },
    {
      "cell_type": "code",
      "metadata": {
        "id": "UyrTbPDeBWhU"
      },
      "source": [
        "# Build the model with an L2 regularization added to all weights\n",
        "model_l2 = Sequential([Conv2D(input_shape=(64,64,1),filters=(3),kernel_size=(1,1),activation='relu'),\n",
        "     keras.layers.MaxPooling2D(pool_size=(2,2)),\n",
        "     Flatten(),\n",
        "     keras.layers.Dense(64, activation='relu',kernel_regularizer=keras.regularizers.l2(0.001)),\n",
        "     keras.layers.Dense(1,activation ='softmax')])\n",
        "# model_l2 = keras.Sequential([keras.layers.Flatten(input_shape=(64,64,1)), \n",
        "#                       keras.layers.Dense(128, activation='relu',kernel_regularizer=keras.regularizers.l2(0.001)),\n",
        "#                       keras.layers.Dense(1, activation='softmax',kernel_regularizer=keras.regularizers.l2(0.001))])\n",
        "\n",
        "# Compile the model and optimize with adam\n",
        "model_l2.compile(optimizer='Adam', loss=keras.losses.CategoricalCrossentropy(),metrics=['accuracy'])"
      ],
      "execution_count": 41,
      "outputs": []
    },
    {
      "cell_type": "code",
      "metadata": {
        "colab": {
          "base_uri": "https://localhost:8080/"
        },
        "id": "bT0rgnxqHPny",
        "outputId": "48628e1b-ea49-453b-a623-8bacd1d76eb0"
      },
      "source": [
        "model_l2.summary()"
      ],
      "execution_count": 35,
      "outputs": [
        {
          "output_type": "stream",
          "text": [
            "Model: \"sequential_9\"\n",
            "_________________________________________________________________\n",
            "Layer (type)                 Output Shape              Param #   \n",
            "=================================================================\n",
            "conv2d_9 (Conv2D)            (None, 64, 64, 3)         6         \n",
            "_________________________________________________________________\n",
            "max_pooling2d_9 (MaxPooling2 (None, 32, 32, 3)         0         \n",
            "_________________________________________________________________\n",
            "flatten_9 (Flatten)          (None, 3072)              0         \n",
            "_________________________________________________________________\n",
            "dense_18 (Dense)             (None, 128)               393344    \n",
            "_________________________________________________________________\n",
            "dense_19 (Dense)             (None, 1)                 129       \n",
            "=================================================================\n",
            "Total params: 393,479\n",
            "Trainable params: 393,479\n",
            "Non-trainable params: 0\n",
            "_________________________________________________________________\n"
          ],
          "name": "stdout"
        }
      ]
    },
    {
      "cell_type": "code",
      "metadata": {
        "id": "xnmRldKHBWeT",
        "colab": {
          "base_uri": "https://localhost:8080/",
          "height": 502
        },
        "outputId": "6772a33e-3f94-45f5-c034-b021f42675d8"
      },
      "source": [
        "# Fit the model to the data while providing a validation set for each epoch\n",
        "history_l2 = model_l2.fit(train_generator, epochs=50, batch_size=32, validation_data=(validation_generator))"
      ],
      "execution_count": 42,
      "outputs": [
        {
          "output_type": "stream",
          "text": [
            "Epoch 1/50\n"
          ],
          "name": "stdout"
        },
        {
          "output_type": "error",
          "ename": "InvalidArgumentError",
          "evalue": "ignored",
          "traceback": [
            "\u001b[0;31m---------------------------------------------------------------------------\u001b[0m",
            "\u001b[0;31mInvalidArgumentError\u001b[0m                      Traceback (most recent call last)",
            "\u001b[0;32m<ipython-input-42-8631b5e47b92>\u001b[0m in \u001b[0;36m<module>\u001b[0;34m()\u001b[0m\n\u001b[1;32m      1\u001b[0m \u001b[0;31m# Fit the model to the data while providing a validation set for each epoch\u001b[0m\u001b[0;34m\u001b[0m\u001b[0;34m\u001b[0m\u001b[0;34m\u001b[0m\u001b[0m\n\u001b[0;32m----> 2\u001b[0;31m \u001b[0mhistory_l2\u001b[0m \u001b[0;34m=\u001b[0m \u001b[0mmodel_l2\u001b[0m\u001b[0;34m.\u001b[0m\u001b[0mfit\u001b[0m\u001b[0;34m(\u001b[0m\u001b[0mtrain_generator\u001b[0m\u001b[0;34m,\u001b[0m \u001b[0mepochs\u001b[0m\u001b[0;34m=\u001b[0m\u001b[0;36m50\u001b[0m\u001b[0;34m,\u001b[0m \u001b[0mbatch_size\u001b[0m\u001b[0;34m=\u001b[0m\u001b[0;36m32\u001b[0m\u001b[0;34m,\u001b[0m \u001b[0mvalidation_data\u001b[0m\u001b[0;34m=\u001b[0m\u001b[0;34m(\u001b[0m\u001b[0mvalidation_generator\u001b[0m\u001b[0;34m)\u001b[0m\u001b[0;34m)\u001b[0m\u001b[0;34m\u001b[0m\u001b[0;34m\u001b[0m\u001b[0m\n\u001b[0m",
            "\u001b[0;32m/usr/local/lib/python3.7/dist-packages/keras/engine/training.py\u001b[0m in \u001b[0;36mfit\u001b[0;34m(self, x, y, batch_size, epochs, verbose, callbacks, validation_split, validation_data, shuffle, class_weight, sample_weight, initial_epoch, steps_per_epoch, validation_steps, validation_batch_size, validation_freq, max_queue_size, workers, use_multiprocessing)\u001b[0m\n\u001b[1;32m   1156\u001b[0m                 _r=1):\n\u001b[1;32m   1157\u001b[0m               \u001b[0mcallbacks\u001b[0m\u001b[0;34m.\u001b[0m\u001b[0mon_train_batch_begin\u001b[0m\u001b[0;34m(\u001b[0m\u001b[0mstep\u001b[0m\u001b[0;34m)\u001b[0m\u001b[0;34m\u001b[0m\u001b[0;34m\u001b[0m\u001b[0m\n\u001b[0;32m-> 1158\u001b[0;31m               \u001b[0mtmp_logs\u001b[0m \u001b[0;34m=\u001b[0m \u001b[0mself\u001b[0m\u001b[0;34m.\u001b[0m\u001b[0mtrain_function\u001b[0m\u001b[0;34m(\u001b[0m\u001b[0miterator\u001b[0m\u001b[0;34m)\u001b[0m\u001b[0;34m\u001b[0m\u001b[0;34m\u001b[0m\u001b[0m\n\u001b[0m\u001b[1;32m   1159\u001b[0m               \u001b[0;32mif\u001b[0m \u001b[0mdata_handler\u001b[0m\u001b[0;34m.\u001b[0m\u001b[0mshould_sync\u001b[0m\u001b[0;34m:\u001b[0m\u001b[0;34m\u001b[0m\u001b[0;34m\u001b[0m\u001b[0m\n\u001b[1;32m   1160\u001b[0m                 \u001b[0mcontext\u001b[0m\u001b[0;34m.\u001b[0m\u001b[0masync_wait\u001b[0m\u001b[0;34m(\u001b[0m\u001b[0;34m)\u001b[0m\u001b[0;34m\u001b[0m\u001b[0;34m\u001b[0m\u001b[0m\n",
            "\u001b[0;32m/usr/local/lib/python3.7/dist-packages/tensorflow/python/eager/def_function.py\u001b[0m in \u001b[0;36m__call__\u001b[0;34m(self, *args, **kwds)\u001b[0m\n\u001b[1;32m    887\u001b[0m \u001b[0;34m\u001b[0m\u001b[0m\n\u001b[1;32m    888\u001b[0m       \u001b[0;32mwith\u001b[0m \u001b[0mOptionalXlaContext\u001b[0m\u001b[0;34m(\u001b[0m\u001b[0mself\u001b[0m\u001b[0;34m.\u001b[0m\u001b[0m_jit_compile\u001b[0m\u001b[0;34m)\u001b[0m\u001b[0;34m:\u001b[0m\u001b[0;34m\u001b[0m\u001b[0;34m\u001b[0m\u001b[0m\n\u001b[0;32m--> 889\u001b[0;31m         \u001b[0mresult\u001b[0m \u001b[0;34m=\u001b[0m \u001b[0mself\u001b[0m\u001b[0;34m.\u001b[0m\u001b[0m_call\u001b[0m\u001b[0;34m(\u001b[0m\u001b[0;34m*\u001b[0m\u001b[0margs\u001b[0m\u001b[0;34m,\u001b[0m \u001b[0;34m**\u001b[0m\u001b[0mkwds\u001b[0m\u001b[0;34m)\u001b[0m\u001b[0;34m\u001b[0m\u001b[0;34m\u001b[0m\u001b[0m\n\u001b[0m\u001b[1;32m    890\u001b[0m \u001b[0;34m\u001b[0m\u001b[0m\n\u001b[1;32m    891\u001b[0m       \u001b[0mnew_tracing_count\u001b[0m \u001b[0;34m=\u001b[0m \u001b[0mself\u001b[0m\u001b[0;34m.\u001b[0m\u001b[0mexperimental_get_tracing_count\u001b[0m\u001b[0;34m(\u001b[0m\u001b[0;34m)\u001b[0m\u001b[0;34m\u001b[0m\u001b[0;34m\u001b[0m\u001b[0m\n",
            "\u001b[0;32m/usr/local/lib/python3.7/dist-packages/tensorflow/python/eager/def_function.py\u001b[0m in \u001b[0;36m_call\u001b[0;34m(self, *args, **kwds)\u001b[0m\n\u001b[1;32m    948\u001b[0m         \u001b[0;31m# Lifting succeeded, so variables are initialized and we can run the\u001b[0m\u001b[0;34m\u001b[0m\u001b[0;34m\u001b[0m\u001b[0;34m\u001b[0m\u001b[0m\n\u001b[1;32m    949\u001b[0m         \u001b[0;31m# stateless function.\u001b[0m\u001b[0;34m\u001b[0m\u001b[0;34m\u001b[0m\u001b[0;34m\u001b[0m\u001b[0m\n\u001b[0;32m--> 950\u001b[0;31m         \u001b[0;32mreturn\u001b[0m \u001b[0mself\u001b[0m\u001b[0;34m.\u001b[0m\u001b[0m_stateless_fn\u001b[0m\u001b[0;34m(\u001b[0m\u001b[0;34m*\u001b[0m\u001b[0margs\u001b[0m\u001b[0;34m,\u001b[0m \u001b[0;34m**\u001b[0m\u001b[0mkwds\u001b[0m\u001b[0;34m)\u001b[0m\u001b[0;34m\u001b[0m\u001b[0;34m\u001b[0m\u001b[0m\n\u001b[0m\u001b[1;32m    951\u001b[0m     \u001b[0;32melse\u001b[0m\u001b[0;34m:\u001b[0m\u001b[0;34m\u001b[0m\u001b[0;34m\u001b[0m\u001b[0m\n\u001b[1;32m    952\u001b[0m       \u001b[0m_\u001b[0m\u001b[0;34m,\u001b[0m \u001b[0m_\u001b[0m\u001b[0;34m,\u001b[0m \u001b[0m_\u001b[0m\u001b[0;34m,\u001b[0m \u001b[0mfiltered_flat_args\u001b[0m \u001b[0;34m=\u001b[0m\u001b[0;31m \u001b[0m\u001b[0;31m\\\u001b[0m\u001b[0;34m\u001b[0m\u001b[0;34m\u001b[0m\u001b[0m\n",
            "\u001b[0;32m/usr/local/lib/python3.7/dist-packages/tensorflow/python/eager/function.py\u001b[0m in \u001b[0;36m__call__\u001b[0;34m(self, *args, **kwargs)\u001b[0m\n\u001b[1;32m   3022\u001b[0m        filtered_flat_args) = self._maybe_define_function(args, kwargs)\n\u001b[1;32m   3023\u001b[0m     return graph_function._call_flat(\n\u001b[0;32m-> 3024\u001b[0;31m         filtered_flat_args, captured_inputs=graph_function.captured_inputs)  # pylint: disable=protected-access\n\u001b[0m\u001b[1;32m   3025\u001b[0m \u001b[0;34m\u001b[0m\u001b[0m\n\u001b[1;32m   3026\u001b[0m   \u001b[0;34m@\u001b[0m\u001b[0mproperty\u001b[0m\u001b[0;34m\u001b[0m\u001b[0;34m\u001b[0m\u001b[0m\n",
            "\u001b[0;32m/usr/local/lib/python3.7/dist-packages/tensorflow/python/eager/function.py\u001b[0m in \u001b[0;36m_call_flat\u001b[0;34m(self, args, captured_inputs, cancellation_manager)\u001b[0m\n\u001b[1;32m   1959\u001b[0m       \u001b[0;31m# No tape is watching; skip to running the function.\u001b[0m\u001b[0;34m\u001b[0m\u001b[0;34m\u001b[0m\u001b[0;34m\u001b[0m\u001b[0m\n\u001b[1;32m   1960\u001b[0m       return self._build_call_outputs(self._inference_function.call(\n\u001b[0;32m-> 1961\u001b[0;31m           ctx, args, cancellation_manager=cancellation_manager))\n\u001b[0m\u001b[1;32m   1962\u001b[0m     forward_backward = self._select_forward_and_backward_functions(\n\u001b[1;32m   1963\u001b[0m         \u001b[0margs\u001b[0m\u001b[0;34m,\u001b[0m\u001b[0;34m\u001b[0m\u001b[0;34m\u001b[0m\u001b[0m\n",
            "\u001b[0;32m/usr/local/lib/python3.7/dist-packages/tensorflow/python/eager/function.py\u001b[0m in \u001b[0;36mcall\u001b[0;34m(self, ctx, args, cancellation_manager)\u001b[0m\n\u001b[1;32m    594\u001b[0m               \u001b[0minputs\u001b[0m\u001b[0;34m=\u001b[0m\u001b[0margs\u001b[0m\u001b[0;34m,\u001b[0m\u001b[0;34m\u001b[0m\u001b[0;34m\u001b[0m\u001b[0m\n\u001b[1;32m    595\u001b[0m               \u001b[0mattrs\u001b[0m\u001b[0;34m=\u001b[0m\u001b[0mattrs\u001b[0m\u001b[0;34m,\u001b[0m\u001b[0;34m\u001b[0m\u001b[0;34m\u001b[0m\u001b[0m\n\u001b[0;32m--> 596\u001b[0;31m               ctx=ctx)\n\u001b[0m\u001b[1;32m    597\u001b[0m         \u001b[0;32melse\u001b[0m\u001b[0;34m:\u001b[0m\u001b[0;34m\u001b[0m\u001b[0;34m\u001b[0m\u001b[0m\n\u001b[1;32m    598\u001b[0m           outputs = execute.execute_with_cancellation(\n",
            "\u001b[0;32m/usr/local/lib/python3.7/dist-packages/tensorflow/python/eager/execute.py\u001b[0m in \u001b[0;36mquick_execute\u001b[0;34m(op_name, num_outputs, inputs, attrs, ctx, name)\u001b[0m\n\u001b[1;32m     58\u001b[0m     \u001b[0mctx\u001b[0m\u001b[0;34m.\u001b[0m\u001b[0mensure_initialized\u001b[0m\u001b[0;34m(\u001b[0m\u001b[0;34m)\u001b[0m\u001b[0;34m\u001b[0m\u001b[0;34m\u001b[0m\u001b[0m\n\u001b[1;32m     59\u001b[0m     tensors = pywrap_tfe.TFE_Py_Execute(ctx._handle, device_name, op_name,\n\u001b[0;32m---> 60\u001b[0;31m                                         inputs, attrs, num_outputs)\n\u001b[0m\u001b[1;32m     61\u001b[0m   \u001b[0;32mexcept\u001b[0m \u001b[0mcore\u001b[0m\u001b[0;34m.\u001b[0m\u001b[0m_NotOkStatusException\u001b[0m \u001b[0;32mas\u001b[0m \u001b[0me\u001b[0m\u001b[0;34m:\u001b[0m\u001b[0;34m\u001b[0m\u001b[0;34m\u001b[0m\u001b[0m\n\u001b[1;32m     62\u001b[0m     \u001b[0;32mif\u001b[0m \u001b[0mname\u001b[0m \u001b[0;32mis\u001b[0m \u001b[0;32mnot\u001b[0m \u001b[0;32mNone\u001b[0m\u001b[0;34m:\u001b[0m\u001b[0;34m\u001b[0m\u001b[0;34m\u001b[0m\u001b[0m\n",
            "\u001b[0;31mInvalidArgumentError\u001b[0m:  In[0] mismatch In[1] shape: 2 vs. 1: [6,2] [64,1] 0 0\n\t [[node gradient_tape/sequential_12/dense_25/MatMul (defined at /usr/local/lib/python3.7/dist-packages/keras/engine/training.py:774) ]] [Op:__inference_train_function_53087]\n\nErrors may have originated from an input operation.\nInput Source operations connected to node gradient_tape/sequential_12/dense_25/MatMul:\n sequential_12/dense_25/MatMul/ReadVariableOp (defined at /usr/local/lib/python3.7/dist-packages/keras/layers/core.py:1222)\n\nFunction call stack:\ntrain_function\n"
          ]
        }
      ]
    },
    {
      "cell_type": "code",
      "metadata": {
        "id": "cgV_cglpBWa4"
      },
      "source": [
        "# Build the model with early stopping\n",
        "model_es = keras.Sequential([keras.layers.Flatten(input_shape=(64,64,1)), \n",
        "                      keras.layers.Dense(128, activation='relu'),\n",
        "                      keras.layers.Dense(10, activation='softmax')])\n",
        "\n",
        "# Compile the model and optimize with adam\n",
        "es = keras.callbacks.EarlyStopping(monitor='val_loss', mode='min', verbose=1)\n",
        "model_es.compile(optimizer='Adam', loss=keras.losses.CategoricalCrossentropy(),metrics=['accuracy'])"
      ],
      "execution_count": null,
      "outputs": []
    },
    {
      "cell_type": "code",
      "metadata": {
        "id": "oeFGk7EiBWW1"
      },
      "source": [
        "# Fit the model to the data while providing a validation set for each epoch\n",
        "history_es = model_es.fit(train_generator, epochs=50, batch_size=32, validation_data=(validation_generator), callbacks=[es])"
      ],
      "execution_count": null,
      "outputs": []
    },
    {
      "cell_type": "code",
      "metadata": {
        "id": "Cd4e21IcBfgy"
      },
      "source": [
        "# Build the model with dropout\n",
        "model_dropout = keras.Sequential([keras.layers.Flatten(input_shape=(64, 64,1)), \n",
        "                      keras.layers.Dense(128, activation='relu'),\n",
        "                      keras.layers.Dropout(.2),\n",
        "                      keras.layers.Dense(10, activation='softmax'),\n",
        "                      keras.layers.Dropout(.2)])\n",
        "\n",
        "# Compile the model and optimize with adam\n",
        "model_dropout.compile(optimizer='Adam', loss=keras.losses.CategoricalCrossentropy(),metrics=['accuracy'])"
      ],
      "execution_count": null,
      "outputs": []
    },
    {
      "cell_type": "code",
      "metadata": {
        "id": "8PmBKF4KBfc_"
      },
      "source": [
        "# Fit the model to the data while providing a validation set for each epoch\n",
        "history_dropout = model_dropout.fit(train_generator, epochs=50, batch_size=32, validation_data=(validation_generator))"
      ],
      "execution_count": null,
      "outputs": []
    },
    {
      "cell_type": "code",
      "metadata": {
        "id": "ND51Nmj8BfSI"
      },
      "source": [
        "# summarize history for accuracy\n",
        "plt.plot(hist_val_acc[0],'-o', label='Standard')\n",
        "plt.plot(history_l2.history['val_acc'],'-o', label=\"L2\")\n",
        "plt.plot(history_es.history['val_acc'],'-o', label=\"Early Stopping\")\n",
        "plt.plot(history_dropout.history['val_acc'],'-o', label=\"Dropout\")\n",
        "plt.title('model accuracy on test')\n",
        "plt.ylabel('accuracy')\n",
        "plt.xlabel('epoch')\n",
        "plt.legend(loc='upper right')\n",
        "plt.show()"
      ],
      "execution_count": null,
      "outputs": []
    },
    {
      "cell_type": "code",
      "metadata": {
        "id": "qjjjlhHUM_dU"
      },
      "source": [
        ""
      ],
      "execution_count": null,
      "outputs": []
    }
  ]
}